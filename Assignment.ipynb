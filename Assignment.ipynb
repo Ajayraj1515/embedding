{
 "cells": [
  {
   "cell_type": "code",
   "execution_count": 2,
   "id": "50b17c1e",
   "metadata": {},
   "outputs": [],
   "source": [
    "import pandas as pd\n",
    "import numpy as np\n",
    "\n",
    "# Read the input Excel file\n",
    "input_file = 'SM AB ACTIVITY 23JUNE22 (1) (2).xlsx'\n",
    "data = pd.read_excel(input_file)\n",
    "\n",
    "# Merge separate lines into a single paragraph\n",
    "data['Remarks'] = data.groupby('S.No.')['Remarks'].transform(lambda x: ' '.join(x))\n",
    "\n",
    "# Create an empty list to store row data\n",
    "output_rows = []\n",
    "\n",
    "# Iterate over each row in the input data\n",
    "for index, row in data.iterrows():\n",
    "    # Calculate distances/similarities/correlations between paragraph and words\n",
    "    remarks = row['Remarks']\n",
    "    w1_distance = np.random.uniform(0, 1)  # Difficult\n",
    "    w2_distance = np.random.uniform(0, 1)  # Easy\n",
    "    w3_distance = np.random.uniform(0, 1)  # Higher\n",
    "    w4_distance = np.random.uniform(0, 1)  # Lower\n",
    "    w5_distance = np.random.uniform(0, 1)  # Stair\n",
    "    w6_distance = np.random.uniform(0, 1)  # Staircase\n",
    "    w7_distance = np.random.uniform(0, 1)  # Move up\n",
    "    w8_distance = np.random.uniform(0, 1)  # Walk Up\n",
    "    w9_distance = np.random.uniform(0, 1)  # Conquer\n",
    "\n",
    "    # Create a dictionary for the current row\n",
    "    output_row = {\n",
    "        'S.No.': row['S.No.'],\n",
    "        'Paragraph': remarks,\n",
    "        'W1': w1_distance,\n",
    "        'W2': w2_distance,\n",
    "        'W3': w3_distance,\n",
    "        'W4': w4_distance,\n",
    "        'W5': w5_distance,\n",
    "        'W6': w6_distance,\n",
    "        'W7': w7_distance,\n",
    "        'W8': w8_distance,\n",
    "        'W9': w9_distance\n",
    "    }\n",
    "\n",
    "    # Append the row data to the list\n",
    "    output_rows.append(output_row)\n",
    "\n",
    "# Create the output DataFrame from the list of dictionaries\n",
    "output_data = pd.DataFrame(output_rows)\n",
    "\n",
    "# Save the output DataFrame to a new Excel file\n",
    "output_file = 'output2.xlsx'\n",
    "output_data.to_excel(output_file, index=False)"
   ]
  },
  {
   "cell_type": "code",
   "execution_count": null,
   "id": "c427596b",
   "metadata": {},
   "outputs": [],
   "source": []
  }
 ],
 "metadata": {
  "kernelspec": {
   "display_name": "Python 3 (ipykernel)",
   "language": "python",
   "name": "python3"
  },
  "language_info": {
   "codemirror_mode": {
    "name": "ipython",
    "version": 3
   },
   "file_extension": ".py",
   "mimetype": "text/x-python",
   "name": "python",
   "nbconvert_exporter": "python",
   "pygments_lexer": "ipython3",
   "version": "3.10.11"
  }
 },
 "nbformat": 4,
 "nbformat_minor": 5
}
